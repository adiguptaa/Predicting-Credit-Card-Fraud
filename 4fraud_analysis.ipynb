{
 "cells": [
  {
   "cell_type": "code",
   "execution_count": null,
   "id": "57e706fc-9d19-411c-be48-2f49022957e4",
   "metadata": {},
   "outputs": [],
   "source": [
    "# THIS NOTEBOOK ANALYZES THE ORIGINAL TESTING DATA TO HELP QUANTIFY OUR MODEL'S PERFORMANCE\n",
    "# SPECIFICALLY WE ARE LOOKING TO IDENTIFY:\n",
    "    # 1. THE MONETARY SUM OF FRAUDULENT TRANSACTIONS\n",
    "    # 2. THE AVERAGE SIZE OF A FRAUDULENT TRANSACTION\n",
    "    # 3. IN WHICH TRANSACTION CATEGORIES FRAUD MOST OFTEN OCCURS"
   ]
  },
  {
   "cell_type": "code",
   "execution_count": 1,
   "id": "2326f8f6-6c9e-4a04-ab15-e3532218f266",
   "metadata": {},
   "outputs": [],
   "source": [
    "# Import necessary library\n",
    "import pandas as pd"
   ]
  },
  {
   "cell_type": "code",
   "execution_count": 2,
   "id": "f87be61c-6765-41d2-a9ee-b30be60a4c5c",
   "metadata": {},
   "outputs": [],
   "source": [
    "# Read in CSV\n",
    "df = pd.read_csv('fraud_test_dataset.csv')"
   ]
  },
  {
   "cell_type": "code",
   "execution_count": 3,
   "id": "c0f30747-8552-4e09-832e-46120018a262",
   "metadata": {},
   "outputs": [
    {
     "data": {
      "text/html": [
       "<div>\n",
       "<style scoped>\n",
       "    .dataframe tbody tr th:only-of-type {\n",
       "        vertical-align: middle;\n",
       "    }\n",
       "\n",
       "    .dataframe tbody tr th {\n",
       "        vertical-align: top;\n",
       "    }\n",
       "\n",
       "    .dataframe thead th {\n",
       "        text-align: right;\n",
       "    }\n",
       "</style>\n",
       "<table border=\"1\" class=\"dataframe\">\n",
       "  <thead>\n",
       "    <tr style=\"text-align: right;\">\n",
       "      <th></th>\n",
       "      <th>Unnamed: 0.1</th>\n",
       "      <th>Unnamed: 0</th>\n",
       "      <th>trans_date_trans_time</th>\n",
       "      <th>cc_num</th>\n",
       "      <th>merchant</th>\n",
       "      <th>category</th>\n",
       "      <th>amt</th>\n",
       "      <th>first</th>\n",
       "      <th>last</th>\n",
       "      <th>gender</th>\n",
       "      <th>...</th>\n",
       "      <th>lat</th>\n",
       "      <th>long</th>\n",
       "      <th>city_pop</th>\n",
       "      <th>job</th>\n",
       "      <th>dob</th>\n",
       "      <th>trans_num</th>\n",
       "      <th>unix_time</th>\n",
       "      <th>merch_lat</th>\n",
       "      <th>merch_long</th>\n",
       "      <th>is_fraud</th>\n",
       "    </tr>\n",
       "  </thead>\n",
       "  <tbody>\n",
       "    <tr>\n",
       "      <th>0</th>\n",
       "      <td>0</td>\n",
       "      <td>0</td>\n",
       "      <td>2020-06-21 12:14:25</td>\n",
       "      <td>2291163933867244</td>\n",
       "      <td>fraud_Kirlin and Sons</td>\n",
       "      <td>personal_care</td>\n",
       "      <td>2.86</td>\n",
       "      <td>Jeff</td>\n",
       "      <td>Elliott</td>\n",
       "      <td>M</td>\n",
       "      <td>...</td>\n",
       "      <td>33.9659</td>\n",
       "      <td>-80.9355</td>\n",
       "      <td>333497</td>\n",
       "      <td>Mechanical engineer</td>\n",
       "      <td>1968-03-19</td>\n",
       "      <td>2da90c7d74bd46a0caf3777415b3ebd3</td>\n",
       "      <td>1371816865</td>\n",
       "      <td>33.986391</td>\n",
       "      <td>-81.200714</td>\n",
       "      <td>0</td>\n",
       "    </tr>\n",
       "    <tr>\n",
       "      <th>1</th>\n",
       "      <td>1</td>\n",
       "      <td>1</td>\n",
       "      <td>2020-06-21 12:14:33</td>\n",
       "      <td>3573030041201292</td>\n",
       "      <td>fraud_Sporer-Keebler</td>\n",
       "      <td>personal_care</td>\n",
       "      <td>29.84</td>\n",
       "      <td>Joanne</td>\n",
       "      <td>Williams</td>\n",
       "      <td>F</td>\n",
       "      <td>...</td>\n",
       "      <td>40.3207</td>\n",
       "      <td>-110.4360</td>\n",
       "      <td>302</td>\n",
       "      <td>Sales professional, IT</td>\n",
       "      <td>1990-01-17</td>\n",
       "      <td>324cc204407e99f51b0d6ca0055005e7</td>\n",
       "      <td>1371816873</td>\n",
       "      <td>39.450498</td>\n",
       "      <td>-109.960431</td>\n",
       "      <td>0</td>\n",
       "    </tr>\n",
       "    <tr>\n",
       "      <th>2</th>\n",
       "      <td>2</td>\n",
       "      <td>2</td>\n",
       "      <td>2020-06-21 12:14:53</td>\n",
       "      <td>3598215285024754</td>\n",
       "      <td>fraud_Swaniawski, Nitzsche and Welch</td>\n",
       "      <td>health_fitness</td>\n",
       "      <td>41.28</td>\n",
       "      <td>Ashley</td>\n",
       "      <td>Lopez</td>\n",
       "      <td>F</td>\n",
       "      <td>...</td>\n",
       "      <td>40.6729</td>\n",
       "      <td>-73.5365</td>\n",
       "      <td>34496</td>\n",
       "      <td>Librarian, public</td>\n",
       "      <td>1970-10-21</td>\n",
       "      <td>c81755dbbbea9d5c77f094348a7579be</td>\n",
       "      <td>1371816893</td>\n",
       "      <td>40.495810</td>\n",
       "      <td>-74.196111</td>\n",
       "      <td>0</td>\n",
       "    </tr>\n",
       "    <tr>\n",
       "      <th>3</th>\n",
       "      <td>3</td>\n",
       "      <td>3</td>\n",
       "      <td>2020-06-21 12:15:15</td>\n",
       "      <td>3591919803438423</td>\n",
       "      <td>fraud_Haley Group</td>\n",
       "      <td>misc_pos</td>\n",
       "      <td>60.05</td>\n",
       "      <td>Brian</td>\n",
       "      <td>Williams</td>\n",
       "      <td>M</td>\n",
       "      <td>...</td>\n",
       "      <td>28.5697</td>\n",
       "      <td>-80.8191</td>\n",
       "      <td>54767</td>\n",
       "      <td>Set designer</td>\n",
       "      <td>1987-07-25</td>\n",
       "      <td>2159175b9efe66dc301f149d3d5abf8c</td>\n",
       "      <td>1371816915</td>\n",
       "      <td>28.812398</td>\n",
       "      <td>-80.883061</td>\n",
       "      <td>0</td>\n",
       "    </tr>\n",
       "    <tr>\n",
       "      <th>4</th>\n",
       "      <td>4</td>\n",
       "      <td>4</td>\n",
       "      <td>2020-06-21 12:15:17</td>\n",
       "      <td>3526826139003047</td>\n",
       "      <td>fraud_Johnston-Casper</td>\n",
       "      <td>travel</td>\n",
       "      <td>3.19</td>\n",
       "      <td>Nathan</td>\n",
       "      <td>Massey</td>\n",
       "      <td>M</td>\n",
       "      <td>...</td>\n",
       "      <td>44.2529</td>\n",
       "      <td>-85.0170</td>\n",
       "      <td>1126</td>\n",
       "      <td>Furniture designer</td>\n",
       "      <td>1955-07-06</td>\n",
       "      <td>57ff021bd3f328f8738bb535c302a31b</td>\n",
       "      <td>1371816917</td>\n",
       "      <td>44.959148</td>\n",
       "      <td>-85.884734</td>\n",
       "      <td>0</td>\n",
       "    </tr>\n",
       "  </tbody>\n",
       "</table>\n",
       "<p>5 rows × 24 columns</p>\n",
       "</div>"
      ],
      "text/plain": [
       "   Unnamed: 0.1  Unnamed: 0 trans_date_trans_time            cc_num  \\\n",
       "0             0           0   2020-06-21 12:14:25  2291163933867244   \n",
       "1             1           1   2020-06-21 12:14:33  3573030041201292   \n",
       "2             2           2   2020-06-21 12:14:53  3598215285024754   \n",
       "3             3           3   2020-06-21 12:15:15  3591919803438423   \n",
       "4             4           4   2020-06-21 12:15:17  3526826139003047   \n",
       "\n",
       "                               merchant        category    amt   first  \\\n",
       "0                 fraud_Kirlin and Sons   personal_care   2.86    Jeff   \n",
       "1                  fraud_Sporer-Keebler   personal_care  29.84  Joanne   \n",
       "2  fraud_Swaniawski, Nitzsche and Welch  health_fitness  41.28  Ashley   \n",
       "3                     fraud_Haley Group        misc_pos  60.05   Brian   \n",
       "4                 fraud_Johnston-Casper          travel   3.19  Nathan   \n",
       "\n",
       "       last gender  ...      lat      long city_pop                     job  \\\n",
       "0   Elliott      M  ...  33.9659  -80.9355   333497     Mechanical engineer   \n",
       "1  Williams      F  ...  40.3207 -110.4360      302  Sales professional, IT   \n",
       "2     Lopez      F  ...  40.6729  -73.5365    34496       Librarian, public   \n",
       "3  Williams      M  ...  28.5697  -80.8191    54767            Set designer   \n",
       "4    Massey      M  ...  44.2529  -85.0170     1126      Furniture designer   \n",
       "\n",
       "          dob                         trans_num   unix_time  merch_lat  \\\n",
       "0  1968-03-19  2da90c7d74bd46a0caf3777415b3ebd3  1371816865  33.986391   \n",
       "1  1990-01-17  324cc204407e99f51b0d6ca0055005e7  1371816873  39.450498   \n",
       "2  1970-10-21  c81755dbbbea9d5c77f094348a7579be  1371816893  40.495810   \n",
       "3  1987-07-25  2159175b9efe66dc301f149d3d5abf8c  1371816915  28.812398   \n",
       "4  1955-07-06  57ff021bd3f328f8738bb535c302a31b  1371816917  44.959148   \n",
       "\n",
       "   merch_long is_fraud  \n",
       "0  -81.200714        0  \n",
       "1 -109.960431        0  \n",
       "2  -74.196111        0  \n",
       "3  -80.883061        0  \n",
       "4  -85.884734        0  \n",
       "\n",
       "[5 rows x 24 columns]"
      ]
     },
     "execution_count": 3,
     "metadata": {},
     "output_type": "execute_result"
    }
   ],
   "source": [
    "df.head()"
   ]
  },
  {
   "cell_type": "code",
   "execution_count": 4,
   "id": "aae19ab4-7d36-467d-81da-c4bd26c95111",
   "metadata": {},
   "outputs": [
    {
     "data": {
      "text/plain": [
       "is_fraud\n",
       "0    6725597.04\n",
       "1     203211.46\n",
       "Name: amt, dtype: float64"
      ]
     },
     "execution_count": 4,
     "metadata": {},
     "output_type": "execute_result"
    }
   ],
   "source": [
    "# Group 'is_fraud' by amount of each transaction and sum \n",
    "fraud_sum = df.groupby('is_fraud')['amt'].sum()\n",
    "fraud_sum"
   ]
  },
  {
   "cell_type": "code",
   "execution_count": 10,
   "id": "70908538-552e-46bc-bbde-d49aa1c5a373",
   "metadata": {},
   "outputs": [
    {
     "name": "stdout",
     "output_type": "stream",
     "text": [
      "Total value of fraudulent transactions: $203211.46\n"
     ]
    }
   ],
   "source": [
    "# Print total value of fraud transactions\n",
    "print(f'Total value of fraudulent transactions: ${fraud_sum.loc[1]:.2f}')"
   ]
  },
  {
   "cell_type": "code",
   "execution_count": 5,
   "id": "73c6b2b6-9c80-4e92-8844-1c2c8ccef21f",
   "metadata": {},
   "outputs": [],
   "source": [
    "# Assign fraudulent transactions to new variable\n",
    "fraud_transactions = df[df['is_fraud'] ==1]"
   ]
  },
  {
   "cell_type": "code",
   "execution_count": 14,
   "id": "18740119-ea5a-4219-8f6c-b4c8d01f73d4",
   "metadata": {},
   "outputs": [
    {
     "name": "stdout",
     "output_type": "stream",
     "text": [
      "Average size of fraudulent transaction: $505.50\n"
     ]
    }
   ],
   "source": [
    "avg_fraud_size = fraud_transactions['amt'].mean()\n",
    "print(f'Average size of fraudulent transaction: ${avg_fraud_size:,.2f}')"
   ]
  },
  {
   "cell_type": "code",
   "execution_count": 7,
   "id": "f3200ef0-0d02-4821-8ac3-6270bc869feb",
   "metadata": {},
   "outputs": [],
   "source": [
    "# Group fraud transactions by category and identify the size of each category\n",
    "fraud_by_category = fraud_transactions.groupby('category').size()"
   ]
  },
  {
   "cell_type": "code",
   "execution_count": 8,
   "id": "6f8fbd91-e03c-4cb9-bdf3-d11e9a1ebaed",
   "metadata": {},
   "outputs": [
    {
     "data": {
      "text/plain": [
       "category\n",
       "shopping_net      94\n",
       "grocery_pos       88\n",
       "misc_net          41\n",
       "shopping_pos      40\n",
       "gas_transport     28\n",
       "home              18\n",
       "misc_pos          16\n",
       "personal_care     13\n",
       "food_dining       12\n",
       "entertainment     11\n",
       "health_fitness    11\n",
       "kids_pets         11\n",
       "grocery_net       10\n",
       "travel             9\n",
       "dtype: int64"
      ]
     },
     "execution_count": 8,
     "metadata": {},
     "output_type": "execute_result"
    }
   ],
   "source": [
    "# Sort fraud categories in decending order\n",
    "fraud_by_category_sorted = fraud_by_category.sort_values(ascending=False)\n",
    "fraud_by_category_sorted"
   ]
  }
 ],
 "metadata": {
  "kernelspec": {
   "display_name": "Python 3 (ipykernel)",
   "language": "python",
   "name": "python3"
  },
  "language_info": {
   "codemirror_mode": {
    "name": "ipython",
    "version": 3
   },
   "file_extension": ".py",
   "mimetype": "text/x-python",
   "name": "python",
   "nbconvert_exporter": "python",
   "pygments_lexer": "ipython3",
   "version": "3.11.5"
  }
 },
 "nbformat": 4,
 "nbformat_minor": 5
}
